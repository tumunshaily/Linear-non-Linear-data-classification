{
 "cells": [
  {
   "cell_type": "markdown",
   "metadata": {},
   "source": [
    "# Basic usage of SVM "
   ]
  },
  {
   "cell_type": "markdown",
   "metadata": {},
   "source": [
    "# Basic Libraries "
   ]
  },
  {
   "cell_type": "code",
   "execution_count": 44,
   "metadata": {},
   "outputs": [],
   "source": [
    "import numpy as np \n",
    "from scipy import stats\n",
    "import matplotlib.pyplot as plt\n",
    "from sklearn.datasets import make_blobs\n",
    "import seaborn as sns\n",
    "sns.set();"
   ]
  },
  {
   "cell_type": "markdown",
   "metadata": {},
   "source": [
    "# Making data set for training "
   ]
  },
  {
   "cell_type": "code",
   "execution_count": 45,
   "metadata": {},
   "outputs": [
    {
     "name": "stdout",
     "output_type": "stream",
     "text": [
      "[[ 1.41281595  1.5303347 ]\n",
      " [ 1.81336135  1.6311307 ]\n",
      " [ 1.43289271  4.37679234]\n",
      " [ 1.87271752  4.18069237]\n",
      " [ 2.09517785  1.0791468 ]\n",
      " [ 2.73890793  0.15676817]\n",
      " [ 3.18515794  0.08900822]\n",
      " [ 2.06156753  1.96918596]\n",
      " [ 2.03835818  1.15466278]\n",
      " [-0.04749204  5.47425256]\n",
      " [ 1.71444449  5.02521524]\n",
      " [ 0.22459286  4.77028154]\n",
      " [ 1.06923853  4.53068484]\n",
      " [ 1.53278923  0.55035386]\n",
      " [ 1.4949318   3.85848832]\n",
      " [ 1.1641107   3.79132988]\n",
      " [ 0.74387399  4.12240568]\n",
      " [ 2.29667251  0.48677761]\n",
      " [ 0.44359863  3.11530945]\n",
      " [ 0.91433877  4.55014643]\n",
      " [ 1.67467427  0.68001896]\n",
      " [ 2.26908736  1.32160756]\n",
      " [ 1.5108885   0.9288309 ]\n",
      " [ 1.65179125  0.68193176]\n",
      " [ 2.49272186  0.97505341]\n",
      " [ 2.33812285  3.43116792]\n",
      " [ 0.67047877  4.04094275]\n",
      " [-0.55552381  4.69595848]\n",
      " [ 2.16172321  0.6565951 ]\n",
      " [ 2.09680487  3.7174206 ]\n",
      " [ 2.18023251  1.48364708]\n",
      " [ 0.43899014  4.53592883]\n",
      " [ 1.24258802  4.50399192]\n",
      " [ 0.00793137  4.17614316]\n",
      " [ 1.89593761  5.18540259]\n",
      " [ 1.868336    0.93136287]\n",
      " [ 2.13141478  1.13885728]\n",
      " [ 1.06269622  5.17635143]\n",
      " [ 2.33466499 -0.02408255]\n",
      " [ 0.669787    3.59540802]\n",
      " [ 1.07714851  1.17533301]\n",
      " [ 1.54632313  4.212973  ]\n",
      " [ 1.56737975 -0.1381059 ]\n",
      " [ 1.35617762  1.43815955]\n",
      " [ 1.00372519  4.19147702]\n",
      " [ 1.29297652  1.47930168]\n",
      " [ 2.94821884  2.03519717]\n",
      " [ 0.3471383   3.45177657]\n",
      " [ 2.76253526  0.78970876]\n",
      " [ 0.76752279  4.39759671]]\n",
      "[1 1 0 0 1 1 1 1 1 0 0 0 0 1 0 0 0 1 0 0 1 1 1 1 1 0 0 0 1 0 1 0 0 0 0 1 1\n",
      " 0 1 0 1 0 1 1 0 1 1 0 1 0]\n"
     ]
    }
   ],
   "source": [
    "X,y = make_blobs(n_samples= 50 , centers = 2, cluster_std = 0.60 , random_state = 0 )\n",
    "print(x)\n",
    "print(y)\n"
   ]
  },
  {
   "cell_type": "markdown",
   "metadata": {},
   "source": [
    "# SVM Model library "
   ]
  },
  {
   "cell_type": "code",
   "execution_count": 46,
   "metadata": {},
   "outputs": [
    {
     "data": {
      "text/plain": [
       "SVC(C=10000000000.0, break_ties=False, cache_size=200, class_weight=None,\n",
       "    coef0=0.0, decision_function_shape='ovr', degree=3, gamma='scale',\n",
       "    kernel='linear', max_iter=-1, probability=False, random_state=None,\n",
       "    shrinking=True, tol=0.001, verbose=False)"
      ]
     },
     "execution_count": 46,
     "metadata": {},
     "output_type": "execute_result"
    }
   ],
   "source": [
    "from sklearn.svm import SVC\n",
    "model = SVC(kernel='linear' , C=1E10)\n",
    "model.fit(X,y) #give the data points and the variance to model\n",
    "\n",
    "#output is not so interpretable so lets code for SVM graph plot"
   ]
  },
  {
   "cell_type": "markdown",
   "metadata": {},
   "source": [
    "# Graph plot function for SVM"
   ]
  },
  {
   "cell_type": "code",
   "execution_count": 53,
   "metadata": {},
   "outputs": [],
   "source": [
    "def svc_plot(model,ax=None,plot_support=True):\n",
    "    if ax is None:\n",
    "        ax = plt.gca()\n",
    "    xlim = ax.get_xlim()\n",
    "    ylim = ax.get_ylim()\n",
    "    \n",
    "    #grid creation for model evaluation \n",
    "    x =np.linspace(xlim[0],xlim[1],30)\n",
    "    y= np.linspace(ylim[0],ylim[1],30)\n",
    "    Y,X = np.meshgrid(y,x)\n",
    "    xy = (np.vstack([X.ravel(),Y.ravel()]).T)\n",
    "    P = model.decision_function(xy).reshape(X.shape)\n",
    "    \n",
    "    #plot Decision Boundaries with margins\n",
    "    ax.contour(X,Y,P,colors='k' , levels = [-1,0,1],alpha = 0.5,linestyles=['--','-','--'])\n",
    "    \n",
    "    #support vector \n",
    "    if plot_support:\n",
    "        ax.scatter(model.support_vectors_[:,0] , model.support_vectors_[:,1] , s =300 , linewidth = 1 , facecolors = 'none');\n",
    "    ax.set_xlim(xlim)\n",
    "    ax.set_ylim(ylim)\n",
    "    \n",
    "    \n",
    "        "
   ]
  },
  {
   "cell_type": "code",
   "execution_count": 54,
   "metadata": {},
   "outputs": [
    {
     "data": {
      "image/png": "[encoded data removed]",
      "text/plain": [
       "<Figure size 432x288 with 1 Axes>"
      ]
     },
     "metadata": {},
     "output_type": "display_data"
    }
   ],
   "source": [
    "plt.scatter(x[:,0],x[:,1],c=y,s=50,cmap=\"summer\");\n",
    "svc_plot(model)\n"
   ]
  },
  {
   "cell_type": "markdown",
   "metadata": {},
   "source": [
    "# The intersecting Points with margins are Support Vectors , Lets see their Actuall points"
   ]
  },
  {
   "cell_type": "code",
   "execution_count": 55,
   "metadata": {},
   "outputs": [
    {
     "data": {
      "text/plain": [
       "array([[0.44359863, 3.11530945],\n",
       "       [2.33812285, 3.43116792],\n",
       "       [2.06156753, 1.96918596]])"
      ]
     },
     "execution_count": 55,
     "metadata": {},
     "output_type": "execute_result"
    }
   ],
   "source": [
    "model.support_vectors_"
   ]
  },
  {
   "cell_type": "code",
   "execution_count": null,
   "metadata": {},
   "outputs": [],
   "source": []
  }
 ],
 "metadata": {
  "kernelspec": {
   "display_name": "Python 3",
   "language": "python",
   "name": "python3"
  },
  "language_info": {
   "codemirror_mode": {
    "name": "ipython",
    "version": 3
   },
   "file_extension": ".py",
   "mimetype": "text/x-python",
   "name": "python",
   "nbconvert_exporter": "python",
   "pygments_lexer": "ipython3",
   "version": "3.7.4"
  }
 },
 "nbformat": 4,
 "nbformat_minor": 2
}
